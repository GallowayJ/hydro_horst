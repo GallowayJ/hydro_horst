{
 "cells": [
  {
   "cell_type": "code",
   "execution_count": 58,
   "metadata": {},
   "outputs": [],
   "source": [
    "class ExternalDevice():\n",
    "    \"\"\"docstring for ExternalDevice\"\"\"\n",
    "    def __init__(self, name, max_value):\n",
    "        self.name = name\n",
    "        self.max_value = max_value\n",
    "        self.state_file = '.{}_state'.format(self.name)\n",
    "        self.state = self.get_state(verbose=True)\n",
    "\n",
    "    def get_state(self, verbose=True):\n",
    "        try:\n",
    "            with open(self.state_file, 'r') as f:\n",
    "                device_state = f.read(1)\n",
    "                if verbose:\n",
    "                    print(\"Device state is: {}\".format(device_state))\n",
    "        except:\n",
    "            with open(self.state_file, 'w+') as f:\n",
    "                print(\"Creating device state file and setting to 0.\")\n",
    "                device_state = '0'\n",
    "                f.write(device_state)\n",
    "        return device_state\n",
    "                \n",
    "    \n",
    "    def start_device(self):\n",
    "        if self.get_state() == '0':\n",
    "            with open(self.state_file, 'w') as f:\n",
    "                print('{} state set to start (1)'.format(self.name))\n",
    "                f.write('1')\n",
    "                self.state = '1'\n",
    "                #self.get\n",
    "        elif self.get_state() == '1':\n",
    "            self.state = '1'\n",
    "            print('{} already on. State file was set at 1.'.format(self.name).format(self.name))\n",
    "            \n",
    "        else:\n",
    "            with open(self.state_file, 'w+') as f:\n",
    "                f.write('1')\n",
    "                self.state = '1'\n",
    "                print('State for {} was not present.', '\\n', 'Created state file and set to 1.')\n",
    "            \n",
    "    def stop_device(self):\n",
    "        if self.get_state() == '0':\n",
    "            self.state = '0'\n",
    "            print('{} already off. State file was set at 0.'.format(self.name))\n",
    "        \n",
    "        elif self.get_state() == '1':\n",
    "            with open(self.state_file, 'w') as f:\n",
    "                f.write('0')\n",
    "                self.state = '0'\n",
    "                print('Set file for {} to 0'.format(self.name))\n",
    "        else:\n",
    "            with open(self.state_file, 'w+') as f:\n",
    "                state.write('0')\n",
    "                self.state = '0'\n",
    "                print('State file for {} was not present.', '\\n', 'Created state file and set to 1.'.format(self.name))     \n"
   ]
  },
  {
   "cell_type": "code",
   "execution_count": 59,
   "metadata": {},
   "outputs": [
    {
     "name": "stdout",
     "output_type": "stream",
     "text": [
      "Creating device state file and setting to 0.\n"
     ]
    }
   ],
   "source": [
    "usbpump = ExternalDevice(\"pump\", 20)"
   ]
  },
  {
   "cell_type": "code",
   "execution_count": 63,
   "metadata": {},
   "outputs": [
    {
     "data": {
      "text/plain": [
       "'0'"
      ]
     },
     "execution_count": 63,
     "metadata": {},
     "output_type": "execute_result"
    }
   ],
   "source": [
    "usbpump.state"
   ]
  },
  {
   "cell_type": "code",
   "execution_count": 61,
   "metadata": {},
   "outputs": [
    {
     "name": "stdout",
     "output_type": "stream",
     "text": [
      "Device state is: 0\n"
     ]
    },
    {
     "data": {
      "text/plain": [
       "'0'"
      ]
     },
     "execution_count": 61,
     "metadata": {},
     "output_type": "execute_result"
    }
   ],
   "source": [
    "usbpump.get_state()"
   ]
  },
  {
   "cell_type": "code",
   "execution_count": 62,
   "metadata": {},
   "outputs": [
    {
     "name": "stdout",
     "output_type": "stream",
     "text": [
      "Device state is: 0\n",
      "pump state set to start (1)\n"
     ]
    }
   ],
   "source": [
    "usbpump.start_device()"
   ]
  },
  {
   "cell_type": "code",
   "execution_count": 57,
   "metadata": {},
   "outputs": [
    {
     "name": "stdout",
     "output_type": "stream",
     "text": [
      "Device state is: 0\n",
      "pump already off. State file was set at 0.\n"
     ]
    }
   ],
   "source": [
    "usbpump.stop_device()"
   ]
  },
  {
   "cell_type": "code",
   "execution_count": 56,
   "metadata": {},
   "outputs": [
    {
     "name": "stdout",
     "output_type": "stream",
     "text": [
      "Device state is: 0\n",
      "pump already off. State file was set at 0.\n"
     ]
    }
   ],
   "source": [
    "usbpump.stop_device()"
   ]
  },
  {
   "cell_type": "code",
   "execution_count": null,
   "metadata": {},
   "outputs": [],
   "source": []
  },
  {
   "cell_type": "code",
   "execution_count": null,
   "metadata": {},
   "outputs": [],
   "source": [
    "class DeviceDaemon():\n",
    "    def __init__(self, name, state_fp, max_sleep):\n",
    "        self.name = name\n",
    "        self.state_fp = state_fp\n",
    "        self.max_sleep = max_sleep\n",
    "        \n",
    "    def check_state_file(self):\n",
    "        try:\n",
    "            with open"
   ]
  },
  {
   "cell_type": "code",
   "execution_count": null,
   "metadata": {},
   "outputs": [],
   "source": [
    "import RPi.GPIO as GPIO\n",
    "import time\n",
    "\n",
    "channel = 21\n",
    "GPIO.setmode(GPIO.BOARD)\n",
    "GPIO.setup(channel, GPIO.OUT)\n",
    "\n",
    "def device_on(pin)\n",
    "    GPIO.output(pin, GPIO.HIGH) # turn pump on\n",
    "    print(\"GPIO pin {} set to HIGH (1)\".format(pin))\n",
    "    return\n",
    "    \n",
    "def device_off(pin):\n",
    "    GPIO.output(pin, GPIO.LOW)\n",
    "    print(\"GPIO pin {} set to LOW (0)\".format(pin))"
   ]
  },
  {
   "cell_type": "markdown",
   "metadata": {},
   "source": [
    "Main file\n",
    "\n",
    "Program should check state files every 5 mins and start the pump or not accordingly."
   ]
  },
  {
   "cell_type": "code",
   "execution_count": null,
   "metadata": {},
   "outputs": [],
   "source": []
  }
 ],
 "metadata": {
  "kernelspec": {
   "display_name": "Python 3",
   "language": "python",
   "name": "python3"
  },
  "language_info": {
   "codemirror_mode": {
    "name": "ipython",
    "version": 3
   },
   "file_extension": ".py",
   "mimetype": "text/x-python",
   "name": "python",
   "nbconvert_exporter": "python",
   "pygments_lexer": "ipython3",
   "version": "3.6.5"
  }
 },
 "nbformat": 4,
 "nbformat_minor": 2
}
